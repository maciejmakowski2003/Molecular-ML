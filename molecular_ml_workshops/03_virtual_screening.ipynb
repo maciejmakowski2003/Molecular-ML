{
 "cells": [
  {
   "cell_type": "markdown",
   "id": "3b484b21-037f-4538-a86c-fa330ab70b9e",
   "metadata": {
    "collapsed": true,
    "jupyter": {
     "outputs_hidden": true
    }
   },
   "source": [
    "# Virtual screening"
   ]
  },
  {
   "cell_type": "markdown",
   "id": "9ce37a10-c5a0-47df-91dc-357bbf51a8b3",
   "metadata": {},
   "source": [
    "Notebook inspired by [Tutorial for the Teach-Discover-Treat (TDT) Competition 2014](https://github.com/sriniker/TDT-tutorial-2014/tree/master) by Sereina Riniker and Gregory Landrum."
   ]
  },
  {
   "cell_type": "markdown",
   "id": "bb8cae79-c856-4a14-bc70-9a5ca268de93",
   "metadata": {},
   "source": [
    "Install dependencies if necessary (uncomment and run):"
   ]
  },
  {
   "cell_type": "code",
   "execution_count": 15,
   "id": "dca19722-a442-4d24-8d61-77ab7274bc5b",
   "metadata": {},
   "outputs": [],
   "source": [
    "# !pip install -r requirements.txt"
   ]
  },
  {
   "cell_type": "markdown",
   "id": "cbc7644c-69cd-4c48-9191-7b082211e8a0",
   "metadata": {},
   "source": [
    "## 1. Primary screening data"
   ]
  },
  {
   "cell_type": "markdown",
   "id": "0a4b6f14-7a6c-4cff-97ef-4e14e3880219",
   "metadata": {},
   "source": [
    "We will focus on screening data for *Plasmodium falciparum*, parasite that causes malaria. This disease causes over 600 thousand deaths anually, mostly among African children. First effective malaria vaccine was approved by WHO in 2023, meeting their goal of >75% efficacy (reduction in risk of getting sick). Subsequently, it was approved and distributed in Ghana and Nigeria. However, research in this area is far from over.\n",
    "\n",
    "Our dataset comes from high-throughput screening (HTS) campaigns from around 2010-2012. It was used for [TDT competition](http://www.tdtproject.org/challenge-1---malaria-hts.html). Note that this data contains imprecise labels, e.g. molecules can be false positives. For this dataset we also have a confirmatory (secondary) screen with precise labels, which we will use later.\n",
    "\n",
    "In HTS, biological activity is measured as a real value, e.g. [EC50](https://en.wikipedia.org/wiki/EC50) or [IC50](https://en.wikipedia.org/wiki/IC50), and typically standardized to z-score. Due to inherent measurement inaccuracy, it is preferred to threshold it and perform binary classification, i.e. active/non-active. Sometimes an \"ambiguous\" class is also introduced, to denote highly uncertain molecules, but here we will ignore all such compounds for simplicity.\n",
    "\n",
    "For details and papers, see:\n",
    "- [TDT challenge: Malaria High-throughput Screen](http://www.tdtproject.org/challenge-1---malaria-hts.html)\n",
    "- [\"Chemical genetics of Plasmodium falciparum\" W. A. Guiguemde et al.](https://www.nature.com/articles/nature09099)\n",
    "- [\"Global Phenotypic Screening for Antimalarials\" W. A. Guiguemde et al.](https://www.sciencedirect.com/science/article/pii/S1074552112000178?via%3Dihub)\n",
    "\n",
    "First, we will load the data. It is slightly simplified, compared to the original TDT data, and compressed in Parquet format (original CSV is really big). `label` means whether activity in HTS was high enough to mark a molecule as a hit."
   ]
  },
  {
   "cell_type": "code",
   "execution_count": 1,
   "id": "dae96658-cea9-4438-8cc4-cd7c6bfb8a42",
   "metadata": {},
   "outputs": [
    {
     "name": "stdout",
     "output_type": "stream",
     "text": [
      "Data size: 305568\n"
     ]
    },
    {
     "data": {
      "image/png": "[encoded data removed]",
      "text/plain": [
       "<Figure size 640x480 with 1 Axes>"
      ]
     },
     "metadata": {},
     "output_type": "display_data"
    },
    {
     "data": {
      "text/html": [
       "<div>\n",
       "<style scoped>\n",
       "    .dataframe tbody tr th:only-of-type {\n",
       "        vertical-align: middle;\n",
       "    }\n",
       "\n",
       "    .dataframe tbody tr th {\n",
       "        vertical-align: top;\n",
       "    }\n",
       "\n",
       "    .dataframe thead th {\n",
       "        text-align: right;\n",
       "    }\n",
       "</style>\n",
       "<table border=\"1\" class=\"dataframe\">\n",
       "  <thead>\n",
       "    <tr style=\"text-align: right;\">\n",
       "      <th></th>\n",
       "      <th>SMILES</th>\n",
       "      <th>label</th>\n",
       "    </tr>\n",
       "  </thead>\n",
       "  <tbody>\n",
       "    <tr>\n",
       "      <th>0</th>\n",
       "      <td>Cc1ccccc1c2nsc(SCC(=O)Nc3ccc(Br)cc3)n2</td>\n",
       "      <td>0</td>\n",
       "    </tr>\n",
       "    <tr>\n",
       "      <th>3</th>\n",
       "      <td>CN1\\C(=N\\C(=O)c2ccc(cc2)S(=O)(=O)N3CCCCC3)\\Sc4...</td>\n",
       "      <td>0</td>\n",
       "    </tr>\n",
       "    <tr>\n",
       "      <th>4</th>\n",
       "      <td>COC(=O)c1ccc(NC(=O)CSc2nc(ns2)c3ccccc3C)cc1</td>\n",
       "      <td>0</td>\n",
       "    </tr>\n",
       "    <tr>\n",
       "      <th>7</th>\n",
       "      <td>CCOC(=O)c1c2CCCCc2sc1NC(=O)\\C(=C/c3ccc(Cl)cc3)...</td>\n",
       "      <td>0</td>\n",
       "    </tr>\n",
       "    <tr>\n",
       "      <th>8</th>\n",
       "      <td>COc1ccccc1NC(=O)CSc2nc(ns2)c3ccccc3Cl</td>\n",
       "      <td>0</td>\n",
       "    </tr>\n",
       "    <tr>\n",
       "      <th>...</th>\n",
       "      <td>...</td>\n",
       "      <td>...</td>\n",
       "    </tr>\n",
       "    <tr>\n",
       "      <th>305563</th>\n",
       "      <td>CC(=O)Nc1cccc(NC(=O)CSc2nc(O)c3cnn(c4ccc(Cl)cc...</td>\n",
       "      <td>0</td>\n",
       "    </tr>\n",
       "    <tr>\n",
       "      <th>305564</th>\n",
       "      <td>CC(C)C(=O)NCc1c(nc2SCCn12)c3ccc(C)cc3</td>\n",
       "      <td>0</td>\n",
       "    </tr>\n",
       "    <tr>\n",
       "      <th>305565</th>\n",
       "      <td>COc1ccccc1n2ncc3c(O)nc(SCC(=O)Nc4cccc(Cl)c4)nc23</td>\n",
       "      <td>0</td>\n",
       "    </tr>\n",
       "    <tr>\n",
       "      <th>305566</th>\n",
       "      <td>Fc1ccc(cc1)c2nc3SCCn3c2CNC(=O)c4ccccc4Cl</td>\n",
       "      <td>0</td>\n",
       "    </tr>\n",
       "    <tr>\n",
       "      <th>305567</th>\n",
       "      <td>COc1ccccc1n2ncc3c(O)nc(SCC(=O)Nc4cccc(c4)C(F)(...</td>\n",
       "      <td>0</td>\n",
       "    </tr>\n",
       "  </tbody>\n",
       "</table>\n",
       "<p>295136 rows × 2 columns</p>\n",
       "</div>"
      ],
      "text/plain": [
       "                                                   SMILES  label\n",
       "0                  Cc1ccccc1c2nsc(SCC(=O)Nc3ccc(Br)cc3)n2      0\n",
       "3       CN1\\C(=N\\C(=O)c2ccc(cc2)S(=O)(=O)N3CCCCC3)\\Sc4...      0\n",
       "4             COC(=O)c1ccc(NC(=O)CSc2nc(ns2)c3ccccc3C)cc1      0\n",
       "7       CCOC(=O)c1c2CCCCc2sc1NC(=O)\\C(=C/c3ccc(Cl)cc3)...      0\n",
       "8                   COc1ccccc1NC(=O)CSc2nc(ns2)c3ccccc3Cl      0\n",
       "...                                                   ...    ...\n",
       "305563  CC(=O)Nc1cccc(NC(=O)CSc2nc(O)c3cnn(c4ccc(Cl)cc...      0\n",
       "305564              CC(C)C(=O)NCc1c(nc2SCCn12)c3ccc(C)cc3      0\n",
       "305565   COc1ccccc1n2ncc3c(O)nc(SCC(=O)Nc4cccc(Cl)c4)nc23      0\n",
       "305566           Fc1ccc(cc1)c2nc3SCCn3c2CNC(=O)c4ccccc4Cl      0\n",
       "305567  COc1ccccc1n2ncc3c(O)nc(SCC(=O)Nc4cccc(c4)C(F)(...      0\n",
       "\n",
       "[295136 rows x 2 columns]"
      ]
     },
     "metadata": {},
     "output_type": "display_data"
    }
   ],
   "source": [
    "import matplotlib.pyplot as plt\n",
    "import pandas as pd\n",
    "\n",
    "\n",
    "df = pd.read_parquet(\"data/malaria_hts_train.parquet\")\n",
    "print(f\"Data size: {len(df)}\")\n",
    "\n",
    "df[\"label\"].value_counts().plot.bar(title=\"Activity labels distribution\")\n",
    "plt.show()\n",
    "\n",
    "df = df[df[\"label\"] != \"ambiguous\"]\n",
    "df[\"label\"] = df[\"label\"].map({\"false\": 0, \"true\": 1})\n",
    "\n",
    "smiles_list = df[\"SMILES\"].tolist()\n",
    "labels = df[\"label\"].values\n",
    "\n",
    "display(df)"
   ]
  },
  {
   "cell_type": "markdown",
   "id": "77ebe4c2-089c-43ff-93ae-592f82d84f97",
   "metadata": {},
   "source": [
    "### Exercise 1"
   ]
  },
  {
   "cell_type": "markdown",
   "id": "0dea69f3-dde2-4141-b716-1e49b31b54d4",
   "metadata": {},
   "source": [
    "We need to prepare our data for further processing. We will use `preprocessing` module in *scikit-fingerprints* for this - [documentation](https://scikit-fingerprints.github.io/scikit-fingerprints/modules/preprocessing.html).\n",
    "\n",
    "Transform SMILES strings to RDKit `Mol` objects with `MolFromSmilesTransformer`. Use only RDKit-valid molecules with `valid_only` argument and `.transform_x_y` method.\n",
    "\n",
    "`batch_size=1000` and `verbose=True` are recommended to see the progress bar.\n",
    "\n",
    "Check how many molecules were removed during this process."
   ]
  },
  {
   "cell_type": "code",
   "execution_count": 2,
   "id": "873472c3-3546-4638-9c0c-e0a9ecde2df0",
   "metadata": {
    "scrolled": true
   },
   "outputs": [
    {
     "name": "stderr",
     "output_type": "stream",
     "text": [
      " 65%|██████▌   | 192/295 [00:03<00:02, 48.10it/s][17:09:32] Explicit valence for atom # 7 N, 5, is greater than permitted\n",
      " 65%|██████▌   | 193/295 [00:04<00:02, 48.22it/s][17:09:32] Explicit valence for atom # 19 S, 7, is greater than permitted\n",
      "296it [00:05, 56.19it/s]                         \n"
     ]
    },
    {
     "name": "stdout",
     "output_type": "stream",
     "text": [
      "Number of valid molecules: 295134\n",
      "Number of invalid molecules: 2\n"
     ]
    }
   ],
   "source": [
    "from skfp.preprocessing import MolFromSmilesTransformer\n",
    "\n",
    "mol_from_smiles = MolFromSmilesTransformer(valid_only=True, n_jobs=-1, batch_size=1000, verbose=True)\n",
    "mols, y = mol_from_smiles.transform_x_y(smiles_list, labels)\n",
    "\n",
    "print(f\"Number of valid molecules: {len(mols)}\")\n",
    "print(f\"Number of invalid molecules: {len(smiles_list) - len(mols)}\")"
   ]
  },
  {
   "cell_type": "markdown",
   "id": "4f9165b4-f42b-452e-8c94-dc30c186b054",
   "metadata": {},
   "source": [
    "## 2. Filtering"
   ]
  },
  {
   "cell_type": "markdown",
   "id": "1ae7b6d7-af71-4daf-a103-cddf26620470",
   "metadata": {},
   "source": [
    "First step in virtual screening (VS) workflows is filtering, removing molecules with unwanted features. *scikit-fingerprints* implements them in `filters` module. Both property-based and structural-based filters share the same interface with `.transform()` and .`transform_x_y()` methods, that return only molecules fulfilling the filter rules.\n",
    "\n",
    "We can chain filters one after another, to apply many one after another. For example, to use all three PAINS filter sets, we can use it many times. Another useful downstream filter is ZINC druglike filter, used by ZINC database, which curates commercially available chemical compounds for virtual screening in medicinal chemistry.\n",
    "\n",
    "However, scikit-learn pipelines don't support using `.transform_x_y()` currently, so we will need to apply them manually. Note that filters can be applied in any order - resulting molecules have to pass all of them. As such, if we focus on efficiency, putting the most restrictive filters first can be useful.\n",
    "\n",
    "For ZINC filter definitions, see e.g. [scikit-fingerprints documentation](https://scikit-fingerprints.github.io/scikit-fingerprints/modules/generated/skfp.filters.ZINCDruglikeFilter.html).\n",
    "\n",
    "References:\n",
    "- [\"New Substructure Filters for Removal of Pan Assay Interference Compounds (PAINS) from Screening Libraries and for Their Exclusion in Bioassays\" J. Baell, G. Holloway](https://doi.org/10.1021/jm901137j)\n",
    "- [\"ZINC − A Free Database of Commercially Available Compounds for Virtual Screening\" J.Irwin, B. Shoichet](https://doi.org/10.1021/ci049714+)"
   ]
  },
  {
   "cell_type": "code",
   "execution_count": 3,
   "id": "a1dd42cc-d99a-442a-a198-a89bcb4290cc",
   "metadata": {
    "scrolled": true
   },
   "outputs": [
    {
     "name": "stderr",
     "output_type": "stream",
     "text": [
      "<frozen importlib._bootstrap>:488: RuntimeWarning: to-Python converter for boost::shared_ptr<RDKit::FilterMatcherBase> already registered; second conversion method ignored.\n"
     ]
    },
    {
     "name": "stdout",
     "output_type": "stream",
     "text": [
      "Molecules before filtering: 295134\n"
     ]
    },
    {
     "name": "stderr",
     "output_type": "stream",
     "text": [
      "  0%|          | 0/295 [00:00<?, ?it/s]<frozen importlib._bootstrap>:488: RuntimeWarning: to-Python converter for boost::shared_ptr<RDKit::FilterMatcherBase> already registered; second conversion method ignored.\n",
      "<frozen importlib._bootstrap>:488: RuntimeWarning: to-Python converter for boost::shared_ptr<RDKit::FilterMatcherBase> already registered; second conversion method ignored.\n",
      "<frozen importlib._bootstrap>:488: RuntimeWarning: to-Python converter for boost::shared_ptr<RDKit::FilterMatcherBase> already registered; second conversion method ignored.\n",
      "<frozen importlib._bootstrap>:488: RuntimeWarning: to-Python converter for boost::shared_ptr<RDKit::FilterMatcherBase> already registered; second conversion method ignored.\n",
      "<frozen importlib._bootstrap>:488: RuntimeWarning: to-Python converter for boost::shared_ptr<RDKit::FilterMatcherBase> already registered; second conversion method ignored.\n",
      "  0%|          | 1/295 [00:00<00:35,  8.19it/s]<frozen importlib._bootstrap>:488: RuntimeWarning: to-Python converter for boost::shared_ptr<RDKit::FilterMatcherBase> already registered; second conversion method ignored.\n",
      "  1%|          | 2/295 [00:00<00:20, 14.58it/s]<frozen importlib._bootstrap>:488: RuntimeWarning: to-Python converter for boost::shared_ptr<RDKit::FilterMatcherBase> already registered; second conversion method ignored.\n",
      "  1%|          | 3/295 [00:00<00:15, 19.22it/s]<frozen importlib._bootstrap>:488: RuntimeWarning: to-Python converter for boost::shared_ptr<RDKit::FilterMatcherBase> already registered; second conversion method ignored.\n",
      "  2%|▏         | 5/295 [00:00<00:11, 25.48it/s]<frozen importlib._bootstrap>:488: RuntimeWarning: to-Python converter for boost::shared_ptr<RDKit::FilterMatcherBase> already registered; second conversion method ignored.\n",
      "  6%|▋         | 19/295 [00:00<00:05, 47.87it/s]<frozen importlib._bootstrap>:488: RuntimeWarning: to-Python converter for boost::shared_ptr<RDKit::FilterMatcherBase> already registered; second conversion method ignored.\n",
      "  8%|▊         | 24/295 [00:00<00:05, 48.31it/s]<frozen importlib._bootstrap>:488: RuntimeWarning: to-Python converter for boost::shared_ptr<RDKit::FilterMatcherBase> already registered; second conversion method ignored.\n",
      " 15%|█▍        | 44/295 [00:00<00:04, 51.60it/s]<frozen importlib._bootstrap>:488: RuntimeWarning: to-Python converter for boost::shared_ptr<RDKit::FilterMatcherBase> already registered; second conversion method ignored.\n",
      "296it [00:04, 68.87it/s]                         \n"
     ]
    },
    {
     "name": "stdout",
     "output_type": "stream",
     "text": [
      "Molecules after PAINS A: 280754\n"
     ]
    },
    {
     "name": "stderr",
     "output_type": "stream",
     "text": [
      "281it [00:07, 35.92it/s]                         \n"
     ]
    },
    {
     "name": "stdout",
     "output_type": "stream",
     "text": [
      "Molecules after PAINS B: 275926\n"
     ]
    },
    {
     "name": "stderr",
     "output_type": "stream",
     "text": [
      "276it [00:31,  8.64it/s]                         \n"
     ]
    },
    {
     "name": "stdout",
     "output_type": "stream",
     "text": [
      "Molecules after PAINS C: 274527\n"
     ]
    },
    {
     "name": "stderr",
     "output_type": "stream",
     "text": [
      "275it [01:23,  3.31it/s]                         "
     ]
    },
    {
     "name": "stdout",
     "output_type": "stream",
     "text": [
      "Molecules after ZINC druglike: 247646\n",
      "Final inactive molecules: 246585\n",
      "Final active molecules: 1061\n"
     ]
    },
    {
     "name": "stderr",
     "output_type": "stream",
     "text": [
      "\n"
     ]
    }
   ],
   "source": [
    "from skfp.filters import PAINSFilter, ZINCDruglikeFilter\n",
    "\n",
    "\n",
    "verbosity_args = dict(batch_size=1000, n_jobs=-1, verbose=True)\n",
    "\n",
    "filt_pains_a = PAINSFilter(variant=\"A\", **verbosity_args)\n",
    "filt_pains_b = PAINSFilter(variant=\"B\", **verbosity_args)\n",
    "filt_pains_c = PAINSFilter(variant=\"C\", **verbosity_args)\n",
    "filt_zinc = ZINCDruglikeFilter(**verbosity_args)\n",
    "\n",
    "print(f\"Molecules before filtering: {len(mols)}\")\n",
    "\n",
    "mols_filtered, y_filtered = filt_pains_a.transform_x_y(mols, y)\n",
    "print(f\"Molecules after PAINS A: {len(mols_filtered)}\")\n",
    "\n",
    "mols_filtered, y_filtered = filt_pains_b.transform_x_y(mols_filtered, y_filtered)\n",
    "print(f\"Molecules after PAINS B: {len(mols_filtered)}\")\n",
    "\n",
    "mols_filtered, y_filtered = filt_pains_c.transform_x_y(mols_filtered, y_filtered)\n",
    "print(f\"Molecules after PAINS C: {len(mols_filtered)}\")\n",
    "\n",
    "mols_filtered, y_filtered = filt_zinc.transform_x_y(mols_filtered, y_filtered)\n",
    "print(f\"Molecules after ZINC druglike: {len(mols_filtered)}\")\n",
    "\n",
    "y_active = y_filtered.sum()\n",
    "y_inactive = len(y_filtered) - y_active\n",
    "print(f\"Final inactive molecules: {y_inactive}\")\n",
    "print(f\"Final active molecules: {y_active}\")"
   ]
  },
  {
   "cell_type": "markdown",
   "id": "fe4fa382-7a65-49e8-b62d-e75fb47aa04f",
   "metadata": {},
   "source": [
    "### Exercise 2"
   ]
  },
  {
   "cell_type": "markdown",
   "id": "36756adf-cf92-4ecf-a03e-febad5de8913",
   "metadata": {},
   "source": [
    "A common criticism of molecular filters is that they are too conservative, and limit the explored chemical space too much. The most famous Lipinski's Rule of 5 filter is often shown as an example of this. It was originally designed to keep orally bioavailable drugs.\n",
    "\n",
    "Try out the Lipinski's Rule of 5 filter, and two alternatives proposed in literature:\n",
    "- Beyond Rule of 5\n",
    "- Rule of Veber\n",
    "\n",
    "You will find them in [scikit-fingerprints documentation](https://scikit-fingerprints.github.io/scikit-fingerprints/modules/filters.html).\n",
    "\n",
    "Filter the initial set of ~295 thousand compounds. Use filters separately (not as a pipeline) and compare how many non-actives and actives did they leave. Was there any big difference in speed?\n",
    "\n",
    "**Note:** do not overwrite the variables `mols_filtered` and `y_filtered` from above, otherwise you will need to recompute them."
   ]
  },
  {
   "cell_type": "code",
   "execution_count": 4,
   "id": "863b3586-eabb-4ce7-8c6c-02f9574f6dd2",
   "metadata": {
    "scrolled": true
   },
   "outputs": [
    {
     "name": "stderr",
     "output_type": "stream",
     "text": [
      "296it [00:09, 31.38it/s]                         \n"
     ]
    },
    {
     "name": "stdout",
     "output_type": "stream",
     "text": [
      "Final molecules after Beyond Ro5: 295035\n",
      "Final inactive molecules: 293509\n",
      "Final active molecules: 1526\n"
     ]
    },
    {
     "name": "stderr",
     "output_type": "stream",
     "text": [
      "296it [00:06, 46.50it/s]                         \n"
     ]
    },
    {
     "name": "stdout",
     "output_type": "stream",
     "text": [
      "Final molecules after Lipinski: 293410\n",
      "Final inactive molecules: 291910\n",
      "Final active molecules: 1500\n"
     ]
    },
    {
     "name": "stderr",
     "output_type": "stream",
     "text": [
      "296it [00:03, 86.64it/s]                         "
     ]
    },
    {
     "name": "stdout",
     "output_type": "stream",
     "text": [
      "Final molecules after Veber: 291876\n",
      "Final inactive molecules: 290378\n",
      "Final active molecules: 1498\n"
     ]
    },
    {
     "name": "stderr",
     "output_type": "stream",
     "text": [
      "\n"
     ]
    }
   ],
   "source": [
    "from skfp.filters import BeyondRo5Filter, LipinskiFilter, RuleOfVeberFilter\n",
    "\n",
    "for filter_class, filter_name in zip([BeyondRo5Filter, LipinskiFilter, RuleOfVeberFilter],\n",
    "                                [\"Beyond Ro5\", \"Lipinski\", \"Veber\"]):\n",
    "    filter = filter_class(**verbosity_args)\n",
    "    mols_filtered2, y_filtered2 = filter.transform_x_y(mols, y)\n",
    "    y_active = y_filtered2.sum()\n",
    "    y_inactive = len(y_filtered2) - y_active\n",
    "    print(f\"Final molecules after {filter_name}: {len(mols_filtered2)}\")\n",
    "    print(f\"Final inactive molecules: {y_inactive}\")\n",
    "    print(f\"Final active molecules: {y_active}\")"
   ]
  },
  {
   "cell_type": "markdown",
   "id": "81b00647-8df1-41a1-a290-1cae309f1732",
   "metadata": {},
   "source": [
    "### What next?"
   ]
  },
  {
   "cell_type": "markdown",
   "id": "a6fbaa2d-210c-4940-8804-6225bb1d3d57",
   "metadata": {},
   "source": [
    "At this point, we typically would get a chemist involved to look over rejected active molecules. Some that look interesting to experts could be rescued, to be fixed in later parts, e.g. their toxicity reduced through structural changes. However, here we focus on a fully automated virtual screening workflow.\n",
    "\n",
    "Then, we can do two things:\n",
    "1. Confirm actives in confirmatory screen\n",
    "2. Perform virtual screening (VS)\n",
    "\n",
    "We will do the latter, since we focus on the virtual screening workflow. If you are interested, see the bonus exercise for confirmatory screen exercise."
   ]
  },
  {
   "cell_type": "markdown",
   "id": "a0ec32b5-1b63-4837-9a4d-fa3f4b034b0f",
   "metadata": {},
   "source": [
    "## Ligand-based virtual screening"
   ]
  },
  {
   "cell_type": "markdown",
   "id": "ffd686c3-a597-4e6c-8730-fef4f326ea4d",
   "metadata": {},
   "source": [
    "Ligand-based VS uses 2D molecular structures, and is a much cheaper and scalable alternative to the 3D structure-based VS. We use molecular fingerprints to quantify similarity to active molecules, and those most similar are assumed to also be active. This can be seen as either a binary classification (active/non-active), or similarity searching, i.e. finding molecules most similar to the active ones.\n",
    "\n",
    "Here, we will focus on classification approach, which has a few advantages:\n",
    "- typically great results\n",
    "- quite noise-resistant\n",
    "- fast and scalable\n",
    "\n",
    "Note that the classification is often highly imbalanced, so we definitely need to use class weighting or other techniques.\n",
    "\n",
    "Steps:\n",
    "1. Train-test split\n",
    "2. Make a pipeline (fingerprint + classifier), tune it and train on training set.\n",
    "3. Calculate a score (e.g. probability) for each test molecule.\n",
    "4. Rank test compounds by their score (sort descending), and evaluate this ranking with chosen metric(s).\n",
    "5. Repeat steps 1-4 many times (bootstrap), e.g. 50.\n",
    "\n",
    "We want the method to recognize structural and functional properties of actives, putting true actives from test set first. In practice, if the test set was a large library of commercially available compounds, we would take first e.g. 100 and test them in the lab. Therefore, we need early enrichment - highly probably actives as close to the beginning as possible. Metrics like enrichment factor (EF) take this into consideration. Due to high imbalance and variance, bootstrap helps with evaluation.\n",
    "\n",
    "**Additional notes**\n",
    "\n",
    "The workflow above assumes no hyperparameter tuning for fingerprints. This is quite common, but of course we could perform such tuning. It \n",
    "would require slight changes, mainly creating a validation set (perhaps with bootstrap or cross-validation), and calculating final fingerprints after tuning.\n",
    "\n",
    "The similarity search approach would work as follows. After train-test set, for each test molecule we compute similarity to actives from the train set, and take the highest similarity. This is called MAX fusion. This is the score, and we sort compounds in the order of descending similarity.\n",
    "\n",
    "Further reading:\n",
    "- [\"Open-source platform to benchmark fingerprints for ligand-based virtual screening\" S. Riniker, G. Landrum](https://doi.org/10.1186/1758-2946-5-26)\n",
    "- [\"Heterogeneous Classifier Fusion for Ligand-Based Virtual Screening: Or, How Decision Making by Committee Can Be a Good Thing\" S. Riniker et al.](https://doi.org/10.1021/ci400466r)"
   ]
  },
  {
   "cell_type": "markdown",
   "id": "1bdacfb1-3698-46c8-b3af-b3ebad9c0887",
   "metadata": {},
   "source": [
    "If we don't tune fingerprint hyperparameters, we can do this once before the entire training. Even if we do tune them, due to bootstrapping precomputing the actual matrices and caching them at this point can be useful. For simplicity, we will just use default settings of AtomPair fingerprint, using scikit-fingerprints and `AtomPairFingerprint` class."
   ]
  },
  {
   "cell_type": "code",
   "execution_count": 5,
   "id": "8f44cfdf-2b66-4db4-a87e-57d50ab6e232",
   "metadata": {},
   "outputs": [
    {
     "name": "stderr",
     "output_type": "stream",
     "text": [
      "248it [00:03, 63.11it/s]                         \n"
     ]
    }
   ],
   "source": [
    "from skfp.fingerprints import AtomPairFingerprint\n",
    "\n",
    "\n",
    "fp_ap = AtomPairFingerprint(batch_size=1000, n_jobs=-1, verbose=True)\n",
    "X_ap = fp_ap.transform(mols_filtered)"
   ]
  },
  {
   "cell_type": "markdown",
   "id": "29ae9bea-240c-404c-8666-7f9ab2e3d559",
   "metadata": {},
   "source": [
    "Now we need 2 functions:\n",
    "1. Classifier training, which also gets scores (probabilities) for test compounds\n",
    "2. Scores ranking and evaluation.\n",
    "\n",
    "Popular classifiers are logistic regression and tree-based ensembles like Random Forest or boosting. We will use LightGBM, since it's very fast."
   ]
  },
  {
   "cell_type": "markdown",
   "id": "300533cc-a9fd-450f-b768-67f32f2d4d65",
   "metadata": {},
   "source": [
    "## Exercise 3"
   ]
  },
  {
   "cell_type": "markdown",
   "id": "185371bd-1fb1-48d6-91e5-00e550185e66",
   "metadata": {},
   "source": [
    "Implement `get_vs_scores` function.\n",
    "\n",
    "1. Train LightGBM classifier ([documentation](https://lightgbm.readthedocs.io/en/latest/pythonapi/lightgbm.LGBMClassifier.html)) with settings:\n",
    "   - `class_weight=\"balanced\"`\n",
    "   - `n_jobs=-1`\n",
    "   - `random_state=0`\n",
    "   - `verbose=-1` - to turn off unnecessary logging\n",
    "3. Predict probability of positive class (active) for test compounds. Those are the molecule scores.\n",
    "4. Calculate metrics using scikit-learn and scikit-fingerprints ([documentation](https://scikit-fingerprints.github.io/scikit-fingerprints/modules/metrics.html)): AUROC and enrichment factor at 5% (EF5%).\n",
    "5. Return calculated metrics."
   ]
  },
  {
   "cell_type": "code",
   "execution_count": 8,
   "id": "82854e67-e46f-4ffc-8142-6e098ae3bf56",
   "metadata": {},
   "outputs": [],
   "source": [
    "import numpy as np\n",
    "from lightgbm import LGBMClassifier\n",
    "from sklearn.metrics import roc_auc_score\n",
    "from skfp.metrics import enrichment_factor\n",
    "\n",
    "\n",
    "def perform_vs_experiment(\n",
    "    X_train: np.ndarray,\n",
    "    X_test: np.ndarray,\n",
    "    y_train: np.ndarray,\n",
    "    y_test: np.ndarray,\n",
    ") -> tuple[float, float]:\n",
    "    lgbm_clf = LGBMClassifier(n_jobs=-1, random_state=0, verbose=-1)\n",
    "    lgbm_clf.fit(X_train, y_train)\n",
    "\n",
    "    y_pred = lgbm_clf.predict_proba(X_test)[:, 1]\n",
    "\n",
    "    roc_auc = roc_auc_score(y_test, y_pred)\n",
    "    ef = enrichment_factor(y_test, y_pred, fraction=0.05)\n",
    "\n",
    "    return roc_auc, ef"
   ]
  },
  {
   "cell_type": "code",
   "execution_count": 9,
   "id": "6a2d1952-c7dd-4a33-a289-d52c96591035",
   "metadata": {},
   "outputs": [
    {
     "name": "stdout",
     "output_type": "stream",
     "text": [
      "AUROC: 81.75%\n",
      "Enrichment factor at 5% (EF5%): 10.66\n"
     ]
    }
   ],
   "source": [
    "from sklearn.model_selection import train_test_split\n",
    "\n",
    "\n",
    "X_train, X_test, y_train, y_test = train_test_split(\n",
    "    X_ap, y_filtered, test_size=0.2, random_state=0, stratify=y_filtered\n",
    ")\n",
    "\n",
    "auroc, ef = perform_vs_experiment(X_train, X_test, y_train, y_test)\n",
    "print(f\"AUROC: {auroc:.2%}\")\n",
    "print(f\"Enrichment factor at 5% (EF5%): {ef:.2f}\")"
   ]
  },
  {
   "cell_type": "markdown",
   "id": "b42eb0ee-3a09-4861-ad46-36171bd81306",
   "metadata": {},
   "source": [
    "Since we have so few actives, single train-test split is not enough. We should perform bootstrapping, i.e. repeat the experiment many times with different splits, and average the results."
   ]
  },
  {
   "cell_type": "code",
   "execution_count": 10,
   "id": "222e31f0-0e1a-4848-9688-4d689ba39da5",
   "metadata": {},
   "outputs": [],
   "source": [
    "from tqdm import tqdm\n",
    "\n",
    "\n",
    "def perform_boostrap_vs_experiment(\n",
    "    X_fp: np.ndarray, y: np.ndarray, n_repetitions: int = 10\n",
    ") -> None:\n",
    "    auroc_values = []\n",
    "    ef_values = []\n",
    "    for i in tqdm(range(n_repetitions), total=n_repetitions):\n",
    "        X_train, X_test, y_train, y_test = train_test_split(\n",
    "            X_fp, y, test_size=0.2, random_state=i, stratify=y_filtered\n",
    "        )\n",
    "        auroc, ef = perform_vs_experiment(X_train, X_test, y_train, y_test)\n",
    "        auroc_values.append(auroc)\n",
    "        ef_values.append(ef)\n",
    "\n",
    "    auroc_mean = np.mean(auroc_values)\n",
    "    auroc_std = np.std(auroc_values)\n",
    "    ef_mean = np.mean(ef_values)\n",
    "    ef_std = np.std(ef_values)\n",
    "    \n",
    "    print(f\"AUROC: {auroc_mean:.2%} +- {auroc_std:.2%}\")\n",
    "    print(f\"Enrichment factor at 5% (EF5%): {ef_mean:.2f} +- {ef_std:.2f}\")\n"
   ]
  },
  {
   "cell_type": "code",
   "execution_count": 11,
   "id": "84ee4747-f3ce-4f33-9bd0-0955ef8eb678",
   "metadata": {},
   "outputs": [
    {
     "name": "stderr",
     "output_type": "stream",
     "text": [
      "100%|██████████| 10/10 [00:38<00:00,  3.88s/it]"
     ]
    },
    {
     "name": "stdout",
     "output_type": "stream",
     "text": [
      "AUROC: 84.27% +- 2.50%\n",
      "Enrichment factor at 5% (EF5%): 11.78 +- 0.97\n"
     ]
    },
    {
     "name": "stderr",
     "output_type": "stream",
     "text": [
      "\n"
     ]
    }
   ],
   "source": [
    "perform_boostrap_vs_experiment(X_ap, y_filtered)"
   ]
  },
  {
   "cell_type": "markdown",
   "id": "04939966-7b85-4207-a98b-a0aaeb9cd9aa",
   "metadata": {},
   "source": [
    "AUROC can be easily interpreted. However, is this enrichment factor good or not? It has minimal value 0, random classifier would get value 1, but the maximum value has a slightly more complicated formula.\n",
    "\n",
    "Mark fraction as $X$, number of actives $n$, and test set size $N$. Then, the maximal value is $1/X$ if $X \\geq n/N$, and $N/n$ otherwise."
   ]
  },
  {
   "cell_type": "code",
   "execution_count": 13,
   "id": "a4ea7897-21d0-4854-920f-0565875b6d40",
   "metadata": {},
   "outputs": [
    {
     "name": "stdout",
     "output_type": "stream",
     "text": [
      "Maximal EF5% value: 20.00\n"
     ]
    }
   ],
   "source": [
    "fraction = 0.05\n",
    "n = sum(y_test)\n",
    "N = len(y_test)\n",
    "\n",
    "max_ef = 1 / fraction if fraction >= n/N else N/n\n",
    "\n",
    "print(f\"Maximal EF5% value: {max_ef:.2f}\")"
   ]
  },
  {
   "cell_type": "markdown",
   "id": "f4b1a46e-e0b1-462f-a18f-d938c7bee344",
   "metadata": {},
   "source": [
    "## Exercise 4"
   ]
  },
  {
   "cell_type": "markdown",
   "id": "1ce3d7a1-9d52-498b-a960-436a52f80ece",
   "metadata": {},
   "source": [
    "Perform the virtual screening experiment with other fingerprints:\n",
    "- ECFP4\n",
    "- RDKit fingerprint\n",
    "- MACCS\n",
    "- Laggner\n",
    "\n",
    "Use scikit-fingerprints [documentation](https://scikit-fingerprints.github.io/scikit-fingerprints/modules/fingerprints.html) as needed. Which fingeprint got the best result?\n",
    "\n",
    "If you have the time, you can also try out the count variants."
   ]
  },
  {
   "cell_type": "code",
   "execution_count": 14,
   "id": "f2933507-f74e-4e2e-bfab-8dcd0999ed09",
   "metadata": {},
   "outputs": [
    {
     "name": "stderr",
     "output_type": "stream",
     "text": [
      "248it [00:04, 54.51it/s]                         \n"
     ]
    },
    {
     "name": "stdout",
     "output_type": "stream",
     "text": [
      "ECFP fingerprint\n"
     ]
    },
    {
     "name": "stderr",
     "output_type": "stream",
     "text": [
      "100%|██████████| 10/10 [00:25<00:00,  2.51s/it]\n"
     ]
    },
    {
     "name": "stdout",
     "output_type": "stream",
     "text": [
      "AUROC: 87.60% +- 1.95%\n",
      "Enrichment factor at 5% (EF5%): 13.88 +- 0.68\n",
      "\n"
     ]
    },
    {
     "name": "stderr",
     "output_type": "stream",
     "text": [
      "248it [00:25,  9.63it/s]                         \n"
     ]
    },
    {
     "name": "stdout",
     "output_type": "stream",
     "text": [
      "RDKit fingerprint\n"
     ]
    },
    {
     "name": "stderr",
     "output_type": "stream",
     "text": [
      "100%|██████████| 10/10 [01:28<00:00,  8.83s/it]\n"
     ]
    },
    {
     "name": "stdout",
     "output_type": "stream",
     "text": [
      "AUROC: 80.49% +- 2.03%\n",
      "Enrichment factor at 5% (EF5%): 11.92 +- 0.42\n",
      "\n"
     ]
    },
    {
     "name": "stderr",
     "output_type": "stream",
     "text": [
      "248it [01:29,  2.77it/s]                         \n"
     ]
    },
    {
     "name": "stdout",
     "output_type": "stream",
     "text": [
      "MACCS fingerprint\n"
     ]
    },
    {
     "name": "stderr",
     "output_type": "stream",
     "text": [
      "100%|██████████| 10/10 [00:15<00:00,  1.59s/it]\n"
     ]
    },
    {
     "name": "stdout",
     "output_type": "stream",
     "text": [
      "AUROC: 86.17% +- 3.12%\n",
      "Enrichment factor at 5% (EF5%): 12.66 +- 0.84\n",
      "\n"
     ]
    },
    {
     "name": "stderr",
     "output_type": "stream",
     "text": [
      "248it [02:50,  1.46it/s]                         \n"
     ]
    },
    {
     "name": "stdout",
     "output_type": "stream",
     "text": [
      "Laggner fingerprint\n"
     ]
    },
    {
     "name": "stderr",
     "output_type": "stream",
     "text": [
      "100%|██████████| 10/10 [00:09<00:00,  1.02it/s]"
     ]
    },
    {
     "name": "stdout",
     "output_type": "stream",
     "text": [
      "AUROC: 87.04% +- 2.08%\n",
      "Enrichment factor at 5% (EF5%): 13.28 +- 0.63\n",
      "\n"
     ]
    },
    {
     "name": "stderr",
     "output_type": "stream",
     "text": [
      "\n"
     ]
    }
   ],
   "source": [
    "from skfp.fingerprints import ECFPFingerprint, RDKitFingerprint, MACCSFingerprint, LaggnerFingerprint\n",
    "\n",
    "\n",
    "for fp_cls, fp_name in [\n",
    "    (ECFPFingerprint, \"ECFP\"),\n",
    "    (RDKitFingerprint, \"RDKit\"),\n",
    "    (MACCSFingerprint, \"MACCS\"),\n",
    "    (LaggnerFingerprint, \"Laggner\"),\n",
    "]:\n",
    "    fp = fp_cls(batch_size=1000, n_jobs=-1, verbose=True)\n",
    "    X_fp = fp.transform(mols_filtered)\n",
    "    print(f\"{fp_name} fingerprint\")\n",
    "    perform_boostrap_vs_experiment(X_fp, y_filtered)\n",
    "    print()\n"
   ]
  },
  {
   "cell_type": "markdown",
   "id": "3cc30666-521f-4922-8ad8-f278fb1052a6",
   "metadata": {},
   "source": [
    "Now, that we have the final model selected, real-world deployment steps would be:\n",
    "1. Retrain model on all available data\n",
    "2. Download a large-scale virtual screening collection, e.g. [Enamine Screening Collection](https://enamine.net/compound-collections/screening-collection) of ~4.4 million compounds\n",
    "3. Filter and predict probabilities, selecting most likely molecules\n",
    "4. Select diverse compounds\n",
    "5. Perform confirmatory screening"
   ]
  },
  {
   "cell_type": "markdown",
   "id": "e6087fbb-d518-42c8-bd99-282a8c83e804",
   "metadata": {},
   "source": [
    "## Bonus exercise"
   ]
  },
  {
   "cell_type": "markdown",
   "id": "e95b2da5-1719-42f7-a167-148f4f8c4da5",
   "metadata": {},
   "source": [
    "We got about 1000 compounds after filtering. Testing them thoroughly in the lab may be too expensive, so we want to pick a subset for purely economic reasons, e.g. 500.\n",
    "\n",
    "Some of those may turn active, but toxic, expensive to synthesize, or be rejected for other reasons. Therefore, we want diverse molecules, to have many alternatives. This is the problem of **maximum diversity picking (MDP)**. It is typically approximated with heuristics, such as clustering.\n",
    "\n",
    "Molecules typically use ECFP vectorization. We first pick diverse cluster centers (centroid molecules), e.g. with Butina (sphere exclusion) clustering - a density-based clustering frequently used for molecules. Alternatively, MaxMin algorithm can be used, which tries to maximize the sum of Tanimoto distances between molecules. Each molecule is then assigned to its nearest cluster based on Tanimoto similarity to the cluster centroid. We can pick molecules from each cluster until we have as many molecules as we can test.\n",
    "\n",
    "1. Implement Butina (sphere exclusion) clustering and cluster the active molecules after filtering. [This tutorial](https://greglandrum.github.io/rdkit-blog/posts/2020-11-18-sphere-exclusion-clustering.html) will be useful.\n",
    "2. Plot molecules from cluster centers - are they diverse? Do their general structure (scaffolds) look different?\n",
    "3. Pick 1 molecule from each cluster randomly in a loop, to get 500 molecules.\n",
    "4. Calculate pairwise Tanimoto similarity between resulting molecule set to quantitatively assess their diversity. Plot the distribution. Are they generally below 0.65, commonly used as similarity threshold?\n",
    "\n",
    "The resulting list would be submitted for synthesis in a confirmatory screen. [TDT data](http://www.tdtproject.org/challenge-1---malaria-hts.html) provides EC50 values for molecules that were tested by them in confirmatory screen, and you can also compare our molecules (based on SMILES) with those. See [this tutorial](https://github.com/sriniker/TDT-tutorial-2014/blob/master/TDT_challenge_tutorial.ipynb) for details."
   ]
  },
  {
   "cell_type": "code",
   "execution_count": null,
   "id": "80590d7d-f8fe-404a-8123-619f07fd0348",
   "metadata": {},
   "outputs": [],
   "source": []
  }
 ],
 "metadata": {
  "kernelspec": {
   "display_name": "venv",
   "language": "python",
   "name": "python3"
  },
  "language_info": {
   "codemirror_mode": {
    "name": "ipython",
    "version": 3
   },
   "file_extension": ".py",
   "mimetype": "text/x-python",
   "name": "python",
   "nbconvert_exporter": "python",
   "pygments_lexer": "ipython3",
   "version": "3.12.9"
  }
 },
 "nbformat": 4,
 "nbformat_minor": 5
}
